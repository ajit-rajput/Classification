{
 "cells": [
  {
   "cell_type": "markdown",
   "metadata": {},
   "source": [
    "<h3>Word2vec model</h3>\n",
    "Word2Vec is one of the most popular and more advanced techniques for learning word embeddings. This technique is based on the assumption that words in the same contexts usually have similar meanings. Word embedding is a vector representation of a word and its input is the text corpus, and its output is a set of vectors. Word embeddings using word2vec can make natural language readable for the computer, and then one can apply further implementation of mathematical operations on words to detect their similarity. A well-trained set of word vectors will place similar words close together in this space."
   ]
  },
  {
   "cell_type": "code",
   "execution_count": 7,
   "metadata": {},
   "outputs": [],
   "source": [
    "import requests\n",
    "import json\n",
    "import pandas as pd\n",
    "import numpy as np\n",
    "\n",
    "\n",
    "import pandas as pd\n",
    "import numpy as np\n",
    "import matplotlib.pyplot as plt\n",
    "%matplotlib inline\n",
    "\n",
    "from mpl_toolkits.mplot3d import Axes3D\n",
    "import seaborn as sns\n",
    "sns.set_style(\"darkgrid\")\n",
    "\n",
    "import re\n",
    "from nltk.corpus import stopwords\n",
    "from nltk.stem.wordnet import WordNetLemmatizer\n",
    "\n",
    "import gensim\n",
    "from gensim.utils import simple_preprocess\n",
    "from gensim.models import phrases, word2vec, Word2Vec\n",
    "from gensim.models.phrases import Phrases, Phraser\n",
    "\n",
    "from sklearn.decomposition import PCA\n",
    "from sklearn.manifold import TSNE"
   ]
  },
  {
   "cell_type": "code",
   "execution_count": 9,
   "metadata": {},
   "outputs": [
    {
     "data": {
      "text/html": [
       "<div>\n",
       "<style scoped>\n",
       "    .dataframe tbody tr th:only-of-type {\n",
       "        vertical-align: middle;\n",
       "    }\n",
       "\n",
       "    .dataframe tbody tr th {\n",
       "        vertical-align: top;\n",
       "    }\n",
       "\n",
       "    .dataframe thead th {\n",
       "        text-align: right;\n",
       "    }\n",
       "</style>\n",
       "<table border=\"1\" class=\"dataframe\">\n",
       "  <thead>\n",
       "    <tr style=\"text-align: right;\">\n",
       "      <th></th>\n",
       "      <th>id</th>\n",
       "      <th>brand</th>\n",
       "      <th>name</th>\n",
       "      <th>price</th>\n",
       "      <th>price_sign</th>\n",
       "      <th>currency</th>\n",
       "      <th>image_link</th>\n",
       "      <th>product_link</th>\n",
       "      <th>website_link</th>\n",
       "      <th>description</th>\n",
       "      <th>rating</th>\n",
       "      <th>category</th>\n",
       "      <th>product_type</th>\n",
       "      <th>tag_list</th>\n",
       "      <th>created_at</th>\n",
       "      <th>updated_at</th>\n",
       "      <th>product_api_url</th>\n",
       "      <th>api_featured_image</th>\n",
       "      <th>product_colors</th>\n",
       "    </tr>\n",
       "  </thead>\n",
       "  <tbody>\n",
       "    <tr>\n",
       "      <th>0</th>\n",
       "      <td>1048</td>\n",
       "      <td>colourpop</td>\n",
       "      <td>Lippie Pencil</td>\n",
       "      <td>5.0</td>\n",
       "      <td>$</td>\n",
       "      <td>CAD</td>\n",
       "      <td>https://cdn.shopify.com/s/files/1/1338/0845/co...</td>\n",
       "      <td>https://colourpop.com/collections/lippie-pencil</td>\n",
       "      <td>https://colourpop.com</td>\n",
       "      <td>Lippie Pencil A long-wearing and high-intensit...</td>\n",
       "      <td>NaN</td>\n",
       "      <td>pencil</td>\n",
       "      <td>lip_liner</td>\n",
       "      <td>[cruelty free, Vegan]</td>\n",
       "      <td>2018-07-08T23:45:08.056Z</td>\n",
       "      <td>2018-07-09T00:53:23.301Z</td>\n",
       "      <td>http://makeup-api.herokuapp.com/api/v1/product...</td>\n",
       "      <td>//s3.amazonaws.com/donovanbailey/products/api_...</td>\n",
       "      <td>[{'hex_value': '#B28378', 'colour_name': 'BFF ...</td>\n",
       "    </tr>\n",
       "    <tr>\n",
       "      <th>1</th>\n",
       "      <td>1047</td>\n",
       "      <td>colourpop</td>\n",
       "      <td>Blotted Lip</td>\n",
       "      <td>5.5</td>\n",
       "      <td>$</td>\n",
       "      <td>CAD</td>\n",
       "      <td>https://cdn.shopify.com/s/files/1/1338/0845/pr...</td>\n",
       "      <td>https://colourpop.com/collections/lippie-stix?...</td>\n",
       "      <td>https://colourpop.com</td>\n",
       "      <td>Blotted Lip Sheer matte lipstick that creates ...</td>\n",
       "      <td>NaN</td>\n",
       "      <td>lipstick</td>\n",
       "      <td>lipstick</td>\n",
       "      <td>[cruelty free, Vegan]</td>\n",
       "      <td>2018-07-08T22:01:20.178Z</td>\n",
       "      <td>2018-07-09T00:53:23.287Z</td>\n",
       "      <td>http://makeup-api.herokuapp.com/api/v1/product...</td>\n",
       "      <td>//s3.amazonaws.com/donovanbailey/products/api_...</td>\n",
       "      <td>[{'hex_value': '#b72227', 'colour_name': 'Bee'...</td>\n",
       "    </tr>\n",
       "    <tr>\n",
       "      <th>2</th>\n",
       "      <td>1046</td>\n",
       "      <td>colourpop</td>\n",
       "      <td>Lippie Stix</td>\n",
       "      <td>5.5</td>\n",
       "      <td>$</td>\n",
       "      <td>CAD</td>\n",
       "      <td>https://cdn.shopify.com/s/files/1/1338/0845/co...</td>\n",
       "      <td>https://colourpop.com/collections/lippie-stix</td>\n",
       "      <td>https://colourpop.com</td>\n",
       "      <td>Lippie Stix Formula contains Vitamin E, Mango,...</td>\n",
       "      <td>NaN</td>\n",
       "      <td>lipstick</td>\n",
       "      <td>lipstick</td>\n",
       "      <td>[cruelty free, Vegan]</td>\n",
       "      <td>2018-07-08T21:47:49.858Z</td>\n",
       "      <td>2018-07-09T00:53:23.274Z</td>\n",
       "      <td>http://makeup-api.herokuapp.com/api/v1/product...</td>\n",
       "      <td>//s3.amazonaws.com/donovanbailey/products/api_...</td>\n",
       "      <td>[{'hex_value': '#F2DEC3', 'colour_name': 'Fair...</td>\n",
       "    </tr>\n",
       "    <tr>\n",
       "      <th>3</th>\n",
       "      <td>1045</td>\n",
       "      <td>colourpop</td>\n",
       "      <td>No Filter Foundation</td>\n",
       "      <td>12.0</td>\n",
       "      <td>$</td>\n",
       "      <td>CAD</td>\n",
       "      <td>https://cdn.shopify.com/s/files/1/1338/0845/pr...</td>\n",
       "      <td>https://colourpop.com/products/no-filter-matte...</td>\n",
       "      <td>https://colourpop.com/products/no-filter-matte...</td>\n",
       "      <td>Developed for the Selfie Age, our buildable fu...</td>\n",
       "      <td>NaN</td>\n",
       "      <td>liquid</td>\n",
       "      <td>foundation</td>\n",
       "      <td>[cruelty free, Vegan]</td>\n",
       "      <td>2018-07-08T18:22:25.273Z</td>\n",
       "      <td>2018-07-09T00:53:23.313Z</td>\n",
       "      <td>http://makeup-api.herokuapp.com/api/v1/product...</td>\n",
       "      <td>//s3.amazonaws.com/donovanbailey/products/api_...</td>\n",
       "      <td>[{'hex_value': '#F2DEC3', 'colour_name': 'Fair...</td>\n",
       "    </tr>\n",
       "    <tr>\n",
       "      <th>4</th>\n",
       "      <td>1044</td>\n",
       "      <td>boosh</td>\n",
       "      <td>Lipstick</td>\n",
       "      <td>26.0</td>\n",
       "      <td>$</td>\n",
       "      <td>CAD</td>\n",
       "      <td>https://cdn.shopify.com/s/files/1/1016/3243/pr...</td>\n",
       "      <td>https://www.boosh.ca/collections/all</td>\n",
       "      <td>https://www.boosh.ca/</td>\n",
       "      <td>All of our products are free from lead and hea...</td>\n",
       "      <td>NaN</td>\n",
       "      <td>lipstick</td>\n",
       "      <td>lipstick</td>\n",
       "      <td>[Chemical Free, Organic]</td>\n",
       "      <td>2018-07-08T17:32:28.088Z</td>\n",
       "      <td>2018-09-02T22:52:06.669Z</td>\n",
       "      <td>http://makeup-api.herokuapp.com/api/v1/product...</td>\n",
       "      <td>//s3.amazonaws.com/donovanbailey/products/api_...</td>\n",
       "      <td>[{'hex_value': '#CB4975', 'colour_name': 'Babs...</td>\n",
       "    </tr>\n",
       "  </tbody>\n",
       "</table>\n",
       "</div>"
      ],
      "text/plain": [
       "     id      brand                  name price price_sign currency  \\\n",
       "0  1048  colourpop         Lippie Pencil   5.0          $      CAD   \n",
       "1  1047  colourpop           Blotted Lip   5.5          $      CAD   \n",
       "2  1046  colourpop           Lippie Stix   5.5          $      CAD   \n",
       "3  1045  colourpop  No Filter Foundation  12.0          $      CAD   \n",
       "4  1044      boosh              Lipstick  26.0          $      CAD   \n",
       "\n",
       "                                          image_link  \\\n",
       "0  https://cdn.shopify.com/s/files/1/1338/0845/co...   \n",
       "1  https://cdn.shopify.com/s/files/1/1338/0845/pr...   \n",
       "2  https://cdn.shopify.com/s/files/1/1338/0845/co...   \n",
       "3  https://cdn.shopify.com/s/files/1/1338/0845/pr...   \n",
       "4  https://cdn.shopify.com/s/files/1/1016/3243/pr...   \n",
       "\n",
       "                                        product_link  \\\n",
       "0    https://colourpop.com/collections/lippie-pencil   \n",
       "1  https://colourpop.com/collections/lippie-stix?...   \n",
       "2      https://colourpop.com/collections/lippie-stix   \n",
       "3  https://colourpop.com/products/no-filter-matte...   \n",
       "4               https://www.boosh.ca/collections/all   \n",
       "\n",
       "                                        website_link  \\\n",
       "0                              https://colourpop.com   \n",
       "1                              https://colourpop.com   \n",
       "2                              https://colourpop.com   \n",
       "3  https://colourpop.com/products/no-filter-matte...   \n",
       "4                              https://www.boosh.ca/   \n",
       "\n",
       "                                         description  rating  category  \\\n",
       "0  Lippie Pencil A long-wearing and high-intensit...     NaN    pencil   \n",
       "1  Blotted Lip Sheer matte lipstick that creates ...     NaN  lipstick   \n",
       "2  Lippie Stix Formula contains Vitamin E, Mango,...     NaN  lipstick   \n",
       "3  Developed for the Selfie Age, our buildable fu...     NaN    liquid   \n",
       "4  All of our products are free from lead and hea...     NaN  lipstick   \n",
       "\n",
       "  product_type                  tag_list                created_at  \\\n",
       "0    lip_liner     [cruelty free, Vegan]  2018-07-08T23:45:08.056Z   \n",
       "1     lipstick     [cruelty free, Vegan]  2018-07-08T22:01:20.178Z   \n",
       "2     lipstick     [cruelty free, Vegan]  2018-07-08T21:47:49.858Z   \n",
       "3   foundation     [cruelty free, Vegan]  2018-07-08T18:22:25.273Z   \n",
       "4     lipstick  [Chemical Free, Organic]  2018-07-08T17:32:28.088Z   \n",
       "\n",
       "                 updated_at  \\\n",
       "0  2018-07-09T00:53:23.301Z   \n",
       "1  2018-07-09T00:53:23.287Z   \n",
       "2  2018-07-09T00:53:23.274Z   \n",
       "3  2018-07-09T00:53:23.313Z   \n",
       "4  2018-09-02T22:52:06.669Z   \n",
       "\n",
       "                                     product_api_url  \\\n",
       "0  http://makeup-api.herokuapp.com/api/v1/product...   \n",
       "1  http://makeup-api.herokuapp.com/api/v1/product...   \n",
       "2  http://makeup-api.herokuapp.com/api/v1/product...   \n",
       "3  http://makeup-api.herokuapp.com/api/v1/product...   \n",
       "4  http://makeup-api.herokuapp.com/api/v1/product...   \n",
       "\n",
       "                                  api_featured_image  \\\n",
       "0  //s3.amazonaws.com/donovanbailey/products/api_...   \n",
       "1  //s3.amazonaws.com/donovanbailey/products/api_...   \n",
       "2  //s3.amazonaws.com/donovanbailey/products/api_...   \n",
       "3  //s3.amazonaws.com/donovanbailey/products/api_...   \n",
       "4  //s3.amazonaws.com/donovanbailey/products/api_...   \n",
       "\n",
       "                                      product_colors  \n",
       "0  [{'hex_value': '#B28378', 'colour_name': 'BFF ...  \n",
       "1  [{'hex_value': '#b72227', 'colour_name': 'Bee'...  \n",
       "2  [{'hex_value': '#F2DEC3', 'colour_name': 'Fair...  \n",
       "3  [{'hex_value': '#F2DEC3', 'colour_name': 'Fair...  \n",
       "4  [{'hex_value': '#CB4975', 'colour_name': 'Babs...  "
      ]
     },
     "execution_count": 9,
     "metadata": {},
     "output_type": "execute_result"
    }
   ],
   "source": [
    "data = requests.get(\"http://makeup-api.herokuapp.com/api/v1/products.json/\").json()\n",
    "products = pd.DataFrame(data)\n",
    "\n",
    "products.head()"
   ]
  },
  {
   "cell_type": "code",
   "execution_count": 10,
   "metadata": {},
   "outputs": [
    {
     "name": "stdout",
     "output_type": "stream",
     "text": [
      "<class 'pandas.core.frame.DataFrame'>\n",
      "RangeIndex: 931 entries, 0 to 930\n",
      "Data columns (total 19 columns):\n",
      " #   Column              Non-Null Count  Dtype  \n",
      "---  ------              --------------  -----  \n",
      " 0   id                  931 non-null    int64  \n",
      " 1   brand               919 non-null    object \n",
      " 2   name                931 non-null    object \n",
      " 3   price               917 non-null    object \n",
      " 4   price_sign          368 non-null    object \n",
      " 5   currency            368 non-null    object \n",
      " 6   image_link          931 non-null    object \n",
      " 7   product_link        931 non-null    object \n",
      " 8   website_link        931 non-null    object \n",
      " 9   description         930 non-null    object \n",
      " 10  rating              340 non-null    float64\n",
      " 11  category            517 non-null    object \n",
      " 12  product_type        931 non-null    object \n",
      " 13  tag_list            931 non-null    object \n",
      " 14  created_at          931 non-null    object \n",
      " 15  updated_at          931 non-null    object \n",
      " 16  product_api_url     931 non-null    object \n",
      " 17  api_featured_image  931 non-null    object \n",
      " 18  product_colors      931 non-null    object \n",
      "dtypes: float64(1), int64(1), object(17)\n",
      "memory usage: 138.3+ KB\n"
     ]
    }
   ],
   "source": [
    "products.info()"
   ]
  },
  {
   "cell_type": "code",
   "execution_count": 13,
   "metadata": {},
   "outputs": [],
   "source": [
    "products.drop(['api_featured_image', 'created_at', 'image_link', 'product_api_url', 'product_colors', 'product_link',\n",
    "              'updated_at', 'website_link', 'price_sign','currency'], axis = 1, inplace = True, errors = 'ignore')"
   ]
  },
  {
   "cell_type": "code",
   "execution_count": 14,
   "metadata": {},
   "outputs": [
    {
     "data": {
      "text/html": [
       "<div>\n",
       "<style scoped>\n",
       "    .dataframe tbody tr th:only-of-type {\n",
       "        vertical-align: middle;\n",
       "    }\n",
       "\n",
       "    .dataframe tbody tr th {\n",
       "        vertical-align: top;\n",
       "    }\n",
       "\n",
       "    .dataframe thead th {\n",
       "        text-align: right;\n",
       "    }\n",
       "</style>\n",
       "<table border=\"1\" class=\"dataframe\">\n",
       "  <thead>\n",
       "    <tr style=\"text-align: right;\">\n",
       "      <th></th>\n",
       "      <th>id</th>\n",
       "      <th>brand</th>\n",
       "      <th>name</th>\n",
       "      <th>price</th>\n",
       "      <th>description</th>\n",
       "      <th>rating</th>\n",
       "      <th>category</th>\n",
       "      <th>product_type</th>\n",
       "      <th>tag_list</th>\n",
       "    </tr>\n",
       "  </thead>\n",
       "  <tbody>\n",
       "    <tr>\n",
       "      <th>0</th>\n",
       "      <td>1048</td>\n",
       "      <td>colourpop</td>\n",
       "      <td>Lippie Pencil</td>\n",
       "      <td>5.0</td>\n",
       "      <td>Lippie Pencil A long-wearing and high-intensit...</td>\n",
       "      <td>NaN</td>\n",
       "      <td>pencil</td>\n",
       "      <td>lip_liner</td>\n",
       "      <td>[cruelty free, Vegan]</td>\n",
       "    </tr>\n",
       "    <tr>\n",
       "      <th>1</th>\n",
       "      <td>1047</td>\n",
       "      <td>colourpop</td>\n",
       "      <td>Blotted Lip</td>\n",
       "      <td>5.5</td>\n",
       "      <td>Blotted Lip Sheer matte lipstick that creates ...</td>\n",
       "      <td>NaN</td>\n",
       "      <td>lipstick</td>\n",
       "      <td>lipstick</td>\n",
       "      <td>[cruelty free, Vegan]</td>\n",
       "    </tr>\n",
       "    <tr>\n",
       "      <th>2</th>\n",
       "      <td>1046</td>\n",
       "      <td>colourpop</td>\n",
       "      <td>Lippie Stix</td>\n",
       "      <td>5.5</td>\n",
       "      <td>Lippie Stix Formula contains Vitamin E, Mango,...</td>\n",
       "      <td>NaN</td>\n",
       "      <td>lipstick</td>\n",
       "      <td>lipstick</td>\n",
       "      <td>[cruelty free, Vegan]</td>\n",
       "    </tr>\n",
       "    <tr>\n",
       "      <th>3</th>\n",
       "      <td>1045</td>\n",
       "      <td>colourpop</td>\n",
       "      <td>No Filter Foundation</td>\n",
       "      <td>12.0</td>\n",
       "      <td>Developed for the Selfie Age, our buildable fu...</td>\n",
       "      <td>NaN</td>\n",
       "      <td>liquid</td>\n",
       "      <td>foundation</td>\n",
       "      <td>[cruelty free, Vegan]</td>\n",
       "    </tr>\n",
       "    <tr>\n",
       "      <th>4</th>\n",
       "      <td>1044</td>\n",
       "      <td>boosh</td>\n",
       "      <td>Lipstick</td>\n",
       "      <td>26.0</td>\n",
       "      <td>All of our products are free from lead and hea...</td>\n",
       "      <td>NaN</td>\n",
       "      <td>lipstick</td>\n",
       "      <td>lipstick</td>\n",
       "      <td>[Chemical Free, Organic]</td>\n",
       "    </tr>\n",
       "  </tbody>\n",
       "</table>\n",
       "</div>"
      ],
      "text/plain": [
       "     id      brand                  name price  \\\n",
       "0  1048  colourpop         Lippie Pencil   5.0   \n",
       "1  1047  colourpop           Blotted Lip   5.5   \n",
       "2  1046  colourpop           Lippie Stix   5.5   \n",
       "3  1045  colourpop  No Filter Foundation  12.0   \n",
       "4  1044      boosh              Lipstick  26.0   \n",
       "\n",
       "                                         description  rating  category  \\\n",
       "0  Lippie Pencil A long-wearing and high-intensit...     NaN    pencil   \n",
       "1  Blotted Lip Sheer matte lipstick that creates ...     NaN  lipstick   \n",
       "2  Lippie Stix Formula contains Vitamin E, Mango,...     NaN  lipstick   \n",
       "3  Developed for the Selfie Age, our buildable fu...     NaN    liquid   \n",
       "4  All of our products are free from lead and hea...     NaN  lipstick   \n",
       "\n",
       "  product_type                  tag_list  \n",
       "0    lip_liner     [cruelty free, Vegan]  \n",
       "1     lipstick     [cruelty free, Vegan]  \n",
       "2     lipstick     [cruelty free, Vegan]  \n",
       "3   foundation     [cruelty free, Vegan]  \n",
       "4     lipstick  [Chemical Free, Organic]  "
      ]
     },
     "execution_count": 14,
     "metadata": {},
     "output_type": "execute_result"
    }
   ],
   "source": [
    "products.head()"
   ]
  },
  {
   "cell_type": "code",
   "execution_count": 15,
   "metadata": {},
   "outputs": [],
   "source": [
    "products.to_csv('data/makeup-products.csv')"
   ]
  },
  {
   "cell_type": "code",
   "execution_count": 24,
   "metadata": {},
   "outputs": [
    {
     "data": {
      "text/html": [
       "<div>\n",
       "<style scoped>\n",
       "    .dataframe tbody tr th:only-of-type {\n",
       "        vertical-align: middle;\n",
       "    }\n",
       "\n",
       "    .dataframe tbody tr th {\n",
       "        vertical-align: top;\n",
       "    }\n",
       "\n",
       "    .dataframe thead th {\n",
       "        text-align: right;\n",
       "    }\n",
       "</style>\n",
       "<table border=\"1\" class=\"dataframe\">\n",
       "  <thead>\n",
       "    <tr style=\"text-align: right;\">\n",
       "      <th></th>\n",
       "      <th>name</th>\n",
       "      <th>description</th>\n",
       "      <th>tag_list</th>\n",
       "    </tr>\n",
       "  </thead>\n",
       "  <tbody>\n",
       "    <tr>\n",
       "      <th>0</th>\n",
       "      <td>Lippie Pencil</td>\n",
       "      <td>Lippie Pencil A long-wearing and high-intensit...</td>\n",
       "      <td>['cruelty free', 'Vegan']</td>\n",
       "    </tr>\n",
       "    <tr>\n",
       "      <th>1</th>\n",
       "      <td>Blotted Lip</td>\n",
       "      <td>Blotted Lip Sheer matte lipstick that creates ...</td>\n",
       "      <td>['cruelty free', 'Vegan']</td>\n",
       "    </tr>\n",
       "    <tr>\n",
       "      <th>2</th>\n",
       "      <td>Lippie Stix</td>\n",
       "      <td>Lippie Stix Formula contains Vitamin E, Mango,...</td>\n",
       "      <td>['cruelty free', 'Vegan']</td>\n",
       "    </tr>\n",
       "    <tr>\n",
       "      <th>3</th>\n",
       "      <td>No Filter Foundation</td>\n",
       "      <td>Developed for the Selfie Age, our buildable fu...</td>\n",
       "      <td>['cruelty free', 'Vegan']</td>\n",
       "    </tr>\n",
       "    <tr>\n",
       "      <th>4</th>\n",
       "      <td>Lipstick</td>\n",
       "      <td>All of our products are free from lead and hea...</td>\n",
       "      <td>['Chemical Free', 'Organic']</td>\n",
       "    </tr>\n",
       "  </tbody>\n",
       "</table>\n",
       "</div>"
      ],
      "text/plain": [
       "                   name                                        description  \\\n",
       "0         Lippie Pencil  Lippie Pencil A long-wearing and high-intensit...   \n",
       "1           Blotted Lip  Blotted Lip Sheer matte lipstick that creates ...   \n",
       "2           Lippie Stix  Lippie Stix Formula contains Vitamin E, Mango,...   \n",
       "3  No Filter Foundation  Developed for the Selfie Age, our buildable fu...   \n",
       "4              Lipstick  All of our products are free from lead and hea...   \n",
       "\n",
       "                       tag_list  \n",
       "0     ['cruelty free', 'Vegan']  \n",
       "1     ['cruelty free', 'Vegan']  \n",
       "2     ['cruelty free', 'Vegan']  \n",
       "3     ['cruelty free', 'Vegan']  \n",
       "4  ['Chemical Free', 'Organic']  "
      ]
     },
     "execution_count": 24,
     "metadata": {},
     "output_type": "execute_result"
    }
   ],
   "source": [
    "df = pd.read_csv('data/makeup-products.csv', header=0, usecols=['name','description','tag_list'])\n",
    "df.head()"
   ]
  },
  {
   "cell_type": "code",
   "execution_count": 20,
   "metadata": {},
   "outputs": [
    {
     "data": {
      "text/plain": [
       "(931, 3)"
      ]
     },
     "execution_count": 20,
     "metadata": {},
     "output_type": "execute_result"
    }
   ],
   "source": [
    "df.shape"
   ]
  },
  {
   "cell_type": "code",
   "execution_count": 25,
   "metadata": {},
   "outputs": [],
   "source": [
    "import texthero as hero\n",
    "from texthero import preprocessing as ppe"
   ]
  },
  {
   "cell_type": "code",
   "execution_count": 31,
   "metadata": {},
   "outputs": [],
   "source": [
    "custom_pipeline = [ ppe.fillna, ppe.lowercase, ppe.remove_punctuation, ppe.remove_stopwords]\n",
    "\n",
    "df['name'] = hero.clean(df['name'], custom_pipeline)\n",
    "\n",
    "df['description'] = hero.clean(df['description'], custom_pipeline)\n",
    "df['tag_list'] = hero.clean(df['tag_list'])\n"
   ]
  },
  {
   "cell_type": "code",
   "execution_count": 33,
   "metadata": {},
   "outputs": [],
   "source": [
    "lem = WordNetLemmatizer()\n",
    "\n",
    "def word_lem(text):\n",
    "    lem_text = [lem.lemmatize(word) for word in text.split()]\n",
    "    return \" \".join(lem_text)"
   ]
  },
  {
   "cell_type": "code",
   "execution_count": 34,
   "metadata": {},
   "outputs": [
    {
     "data": {
      "text/html": [
       "<div>\n",
       "<style scoped>\n",
       "    .dataframe tbody tr th:only-of-type {\n",
       "        vertical-align: middle;\n",
       "    }\n",
       "\n",
       "    .dataframe tbody tr th {\n",
       "        vertical-align: top;\n",
       "    }\n",
       "\n",
       "    .dataframe thead th {\n",
       "        text-align: right;\n",
       "    }\n",
       "</style>\n",
       "<table border=\"1\" class=\"dataframe\">\n",
       "  <thead>\n",
       "    <tr style=\"text-align: right;\">\n",
       "      <th></th>\n",
       "      <th>name</th>\n",
       "      <th>description</th>\n",
       "      <th>tag_list</th>\n",
       "    </tr>\n",
       "  </thead>\n",
       "  <tbody>\n",
       "    <tr>\n",
       "      <th>0</th>\n",
       "      <td>lippie pencil</td>\n",
       "      <td>lippie pencil long wearing high intensity lip ...</td>\n",
       "      <td>cruelty free vegan</td>\n",
       "    </tr>\n",
       "    <tr>\n",
       "      <th>1</th>\n",
       "      <td>blotted lip</td>\n",
       "      <td>blotted lip sheer matte lipstick creates perfe...</td>\n",
       "      <td>cruelty free vegan</td>\n",
       "    </tr>\n",
       "    <tr>\n",
       "      <th>2</th>\n",
       "      <td>lippie stix</td>\n",
       "      <td>lippie stix formula contains vitamin e mango a...</td>\n",
       "      <td>cruelty free vegan</td>\n",
       "    </tr>\n",
       "    <tr>\n",
       "      <th>3</th>\n",
       "      <td>filter foundation</td>\n",
       "      <td>developed selfie age buildable full coverage n...</td>\n",
       "      <td>cruelty free vegan</td>\n",
       "    </tr>\n",
       "    <tr>\n",
       "      <th>4</th>\n",
       "      <td>lipstick</td>\n",
       "      <td>product free lead heavy metal parabens phthala...</td>\n",
       "      <td>chemical free organic</td>\n",
       "    </tr>\n",
       "  </tbody>\n",
       "</table>\n",
       "</div>"
      ],
      "text/plain": [
       "                 name                                        description  \\\n",
       "0       lippie pencil  lippie pencil long wearing high intensity lip ...   \n",
       "1         blotted lip  blotted lip sheer matte lipstick creates perfe...   \n",
       "2         lippie stix  lippie stix formula contains vitamin e mango a...   \n",
       "3   filter foundation  developed selfie age buildable full coverage n...   \n",
       "4            lipstick  product free lead heavy metal parabens phthala...   \n",
       "\n",
       "                tag_list  \n",
       "0     cruelty free vegan  \n",
       "1     cruelty free vegan  \n",
       "2     cruelty free vegan  \n",
       "3     cruelty free vegan  \n",
       "4  chemical free organic  "
      ]
     },
     "execution_count": 34,
     "metadata": {},
     "output_type": "execute_result"
    }
   ],
   "source": [
    "df['description']  = df['description'].apply(word_lem)\n",
    "df.head()"
   ]
  },
  {
   "cell_type": "markdown",
   "metadata": {},
   "source": [
    "<h3>Model creation</h3>"
   ]
  },
  {
   "cell_type": "code",
   "execution_count": 35,
   "metadata": {},
   "outputs": [
    {
     "data": {
      "text/plain": [
       "0        [lippie, pencil]\n",
       "1          [blotted, lip]\n",
       "2          [lippie, stix]\n",
       "3    [filter, foundation]\n",
       "4              [lipstick]\n",
       "Name: name, dtype: object"
      ]
     },
     "execution_count": 35,
     "metadata": {},
     "output_type": "execute_result"
    }
   ],
   "source": [
    "corpus = hero.tokenize(df['name'])\n",
    "corpus[0:5]"
   ]
  },
  {
   "cell_type": "code",
   "execution_count": 37,
   "metadata": {},
   "outputs": [],
   "source": [
    "name_model = Word2Vec(corpus, size=100, window=3, min_count=1)"
   ]
  },
  {
   "cell_type": "code",
   "execution_count": 38,
   "metadata": {},
   "outputs": [
    {
     "data": {
      "text/plain": [
       "[('edition', 0.4124469757080078),\n",
       " ('matte', 0.33455488085746765),\n",
       " ('eye', 0.32677584886550903),\n",
       " ('kit', 0.3261893391609192),\n",
       " ('cosmetics', 0.30601441860198975),\n",
       " ('uplighting', 0.30400019884109497),\n",
       " ('dr', 0.3032594919204712),\n",
       " ('striking', 0.28636133670806885),\n",
       " ('wild', 0.28074413537979126),\n",
       " ('gel', 0.2798846364021301)]"
      ]
     },
     "execution_count": 38,
     "metadata": {},
     "output_type": "execute_result"
    }
   ],
   "source": [
    "name_model.wv.most_similar('lipstick')"
   ]
  },
  {
   "cell_type": "code",
   "execution_count": 39,
   "metadata": {},
   "outputs": [
    {
     "data": {
      "text/plain": [
       "[('broad', 0.35196954011917114),\n",
       " ('bronzer', 0.3466640114784241),\n",
       " ('brow', 0.34234821796417236),\n",
       " ('gel', 0.32695043087005615),\n",
       " ('lash', 0.31893813610076904),\n",
       " ('concealer', 0.31460824608802795),\n",
       " ('l', 0.31291234493255615),\n",
       " ('fail', 0.30139318108558655),\n",
       " ('paris', 0.29558536410331726),\n",
       " ('cream', 0.29341015219688416)]"
      ]
     },
     "execution_count": 39,
     "metadata": {},
     "output_type": "execute_result"
    }
   ],
   "source": [
    "name_model.wv.most_similar('liquid')"
   ]
  },
  {
   "cell_type": "markdown",
   "metadata": {},
   "source": [
    "<h3>Word2vec model for description</h3>"
   ]
  },
  {
   "cell_type": "code",
   "execution_count": 40,
   "metadata": {},
   "outputs": [],
   "source": [
    "# We create the list of list format of the custom corpus for gensim modeling:\n",
    "sentences = [row.split() for row in df['description']]"
   ]
  },
  {
   "cell_type": "code",
   "execution_count": 41,
   "metadata": {},
   "outputs": [
    {
     "data": {
      "text/plain": [
       "[['lippie',\n",
       "  'pencil',\n",
       "  'long',\n",
       "  'wearing',\n",
       "  'high',\n",
       "  'intensity',\n",
       "  'lip',\n",
       "  'pencil',\n",
       "  'glide',\n",
       "  'easily',\n",
       "  'prevents',\n",
       "  'feathering',\n",
       "  'many',\n",
       "  'lippie',\n",
       "  'stix',\n",
       "  'coordinating',\n",
       "  'lippie',\n",
       "  'pencil',\n",
       "  'designed',\n",
       "  'compliment',\n",
       "  'perfectly',\n",
       "  'feel',\n",
       "  'free',\n",
       "  'mix',\n",
       "  'match']]"
      ]
     },
     "execution_count": 41,
     "metadata": {},
     "output_type": "execute_result"
    }
   ],
   "source": [
    "sentences[0:1]"
   ]
  },
  {
   "cell_type": "markdown",
   "metadata": {},
   "source": [
    "<b>Creating the model and setting values for the various parameters:</b></br>\n",
    "Here are few important of the hyperparameters of this model:<br>\n",
    "\n",
    "size: this is the number of dimensions of the embeddings. Typical numbers is in the range of 50 to 300, we use 100 beacause we don't have that much text. <br>\n",
    "window: it is the maximum distance between a target word and words around the target word.</br>\n",
    "min_count: minimum count of words to consider when training the model. Words with occurrence less than this count will be ignored. We used for min_count 1.</br>"
   ]
  },
  {
   "cell_type": "code",
   "execution_count": 42,
   "metadata": {},
   "outputs": [],
   "source": [
    "model = Word2Vec(sentences, min_count=1, size=100, window=3)"
   ]
  },
  {
   "cell_type": "code",
   "execution_count": 43,
   "metadata": {},
   "outputs": [
    {
     "data": {
      "text/plain": [
       "[('texture', 0.999869704246521),\n",
       " ('pencil', 0.9998623132705688),\n",
       " ('stay', 0.9998431205749512),\n",
       " ('hour', 0.9998080134391785),\n",
       " ('dry', 0.9997955560684204),\n",
       " ('like', 0.9997859001159668),\n",
       " ('result', 0.999779224395752),\n",
       " ('creates', 0.999763548374176),\n",
       " ('moisturizing', 0.9997388124465942),\n",
       " ('beautiful', 0.9997288584709167)]"
      ]
     },
     "execution_count": 43,
     "metadata": {},
     "output_type": "execute_result"
    }
   ],
   "source": [
    "#This will print the most similar words present in the model: \n",
    "model.wv.most_similar('lipstick')"
   ]
  },
  {
   "cell_type": "code",
   "execution_count": 44,
   "metadata": {},
   "outputs": [
    {
     "data": {
      "text/plain": [
       "[('cheekbone', 0.9996285438537598),\n",
       " ('perfectly', 0.9995981454849243),\n",
       " ('work', 0.9995733499526978),\n",
       " ('effect', 0.9995520710945129),\n",
       " ('add', 0.9995331764221191),\n",
       " ('naturally', 0.99953293800354),\n",
       " ('moisture', 0.9995229840278625),\n",
       " ('lid', 0.9995077252388),\n",
       " ('shimmer', 0.9995046257972717),\n",
       " ('contour', 0.9994987845420837)]"
      ]
     },
     "execution_count": 44,
     "metadata": {},
     "output_type": "execute_result"
    }
   ],
   "source": [
    "model.wv.most_similar('powder')"
   ]
  },
  {
   "cell_type": "code",
   "execution_count": 45,
   "metadata": {},
   "outputs": [
    {
     "data": {
      "text/plain": [
       "0.9981829"
      ]
     },
     "execution_count": 45,
     "metadata": {},
     "output_type": "execute_result"
    }
   ],
   "source": [
    "\n",
    "model.wv.similarity('bronzer', 'blush')"
   ]
  },
  {
   "cell_type": "code",
   "execution_count": null,
   "metadata": {},
   "outputs": [],
   "source": []
  }
 ],
 "metadata": {
  "kernelspec": {
   "display_name": "Python 3",
   "language": "python",
   "name": "python3"
  },
  "language_info": {
   "codemirror_mode": {
    "name": "ipython",
    "version": 3
   },
   "file_extension": ".py",
   "mimetype": "text/x-python",
   "name": "python",
   "nbconvert_exporter": "python",
   "pygments_lexer": "ipython3",
   "version": "3.7.7"
  }
 },
 "nbformat": 4,
 "nbformat_minor": 4
}
